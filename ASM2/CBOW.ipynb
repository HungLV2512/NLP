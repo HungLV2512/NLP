{
  "nbformat": 4,
  "nbformat_minor": 0,
  "metadata": {
    "colab": {
      "provenance": [],
      "gpuType": "T4",
      "authorship_tag": "ABX9TyPN5A/4hGOHmH2oadcNWYmx",
      "include_colab_link": true
    },
    "kernelspec": {
      "name": "python3",
      "display_name": "Python 3"
    },
    "language_info": {
      "name": "python"
    },
    "accelerator": "GPU"
  },
  "cells": [
    {
      "cell_type": "markdown",
      "metadata": {
        "id": "view-in-github",
        "colab_type": "text"
      },
      "source": [
        "<a href=\"https://colab.research.google.com/github/HungLV2512/NLP/blob/main/ASM2/CBOW.ipynb\" target=\"_parent\"><img src=\"https://colab.research.google.com/assets/colab-badge.svg\" alt=\"Open In Colab\"/></a>"
      ]
    },
    {
      "cell_type": "code",
      "execution_count": null,
      "metadata": {
        "colab": {
          "base_uri": "https://localhost:8080/"
        },
        "id": "RGU7i_hIEDsM",
        "outputId": "4913d5bd-e973-4904-ad10-f709704287f9"
      },
      "outputs": [
        {
          "output_type": "stream",
          "name": "stdout",
          "text": [
            "Mounted at /content/drive\n"
          ]
        }
      ],
      "source": [
        "from google.colab import drive\n",
        "drive.mount('/content/drive')"
      ]
    },
    {
      "cell_type": "code",
      "source": [
        "lines = []\n",
        "with open('/content/drive/MyDrive/Colab Notebooks/NLP/truyen_kieu_data.txt', 'r', encoding='utf-8') as file:\n",
        "    lines = file.readlines()"
      ],
      "metadata": {
        "id": "wXKdvVbqEIZP"
      },
      "execution_count": null,
      "outputs": []
    },
    {
      "cell_type": "code",
      "source": [
        "import string\n",
        "import numpy as np\n",
        "from tensorflow.keras.layers import Embedding, Lambda, Dense\n",
        "import tensorflow.keras.backend as K\n",
        "from tensorflow.keras.models import Sequential\n",
        "from tensorflow.keras.preprocessing.text import Tokenizer\n",
        "from tensorflow.keras.preprocessing.sequence import pad_sequences\n",
        "from tensorflow.keras.utils import to_categorical"
      ],
      "metadata": {
        "id": "HsLa39H6EZsP"
      },
      "execution_count": null,
      "outputs": []
    },
    {
      "cell_type": "code",
      "source": [
        "PUNCT_TO_REMOVE = string.punctuation + string.digits + '\\n'\n",
        "def clean_text(text):\n",
        "    text = text.translate(str.maketrans('', '', PUNCT_TO_REMOVE))\n",
        "    text = text.lower()\n",
        "    return text\n",
        "clean_text(lines[0])"
      ],
      "metadata": {
        "colab": {
          "base_uri": "https://localhost:8080/",
          "height": 35
        },
        "id": "Xh2rc_G-UMzE",
        "outputId": "db9caaaf-4802-4466-dcfc-06c17a09a348"
      },
      "execution_count": null,
      "outputs": [
        {
          "output_type": "execute_result",
          "data": {
            "text/plain": [
              "'trăm năm trong cõi người ta'"
            ],
            "application/vnd.google.colaboratory.intrinsic+json": {
              "type": "string"
            }
          },
          "metadata": {},
          "execution_count": 4
        }
      ]
    },
    {
      "cell_type": "code",
      "source": [
        "corpus = [clean_text(line) for line in lines]"
      ],
      "metadata": {
        "id": "p3aFHh-TXkcN"
      },
      "execution_count": null,
      "outputs": []
    },
    {
      "cell_type": "code",
      "source": [
        "def get_centers_and_contexts(corpus, max_window_size=2):\n",
        "    centers, contexts = [], []\n",
        "    for line in corpus:\n",
        "        line = line.split()\n",
        "\n",
        "        if len(line) <= 2*max_window_size:\n",
        "            continue\n",
        "\n",
        "        for i in range(max_window_size, len(line) - max_window_size):\n",
        "            centers.append(line[i])\n",
        "            idxs = list(range(i-max_window_size, i+max_window_size+1))\n",
        "            idxs.remove(i)\n",
        "            contexts.append(\" \".join([line[idx] for idx in idxs]))\n",
        "\n",
        "    return centers, contexts"
      ],
      "metadata": {
        "id": "z2fYp0GgUpFu"
      },
      "execution_count": null,
      "outputs": []
    },
    {
      "cell_type": "code",
      "source": [
        "centers, contexts = get_centers_and_contexts(corpus)\n",
        "len(centers), len(contexts)"
      ],
      "metadata": {
        "colab": {
          "base_uri": "https://localhost:8080/"
        },
        "id": "9AEercb9VYqZ",
        "outputId": "1ccfc501-adcd-466a-edaf-74890004b83d"
      },
      "execution_count": null,
      "outputs": [
        {
          "output_type": "execute_result",
          "data": {
            "text/plain": [
              "(9778, 9778)"
            ]
          },
          "metadata": {},
          "execution_count": 7
        }
      ]
    },
    {
      "cell_type": "code",
      "source": [
        "centers[:2], contexts[:2]"
      ],
      "metadata": {
        "colab": {
          "base_uri": "https://localhost:8080/"
        },
        "id": "FpBLGz7PXIaf",
        "outputId": "66ca9cff-d9c9-4534-a5a0-98912281cb82"
      },
      "execution_count": null,
      "outputs": [
        {
          "output_type": "execute_result",
          "data": {
            "text/plain": [
              "(['trong', 'cõi'], ['trăm năm cõi người', 'năm trong người ta'])"
            ]
          },
          "metadata": {},
          "execution_count": 8
        }
      ]
    },
    {
      "cell_type": "code",
      "source": [
        "max_length = 4\n",
        "embedding_size = 200"
      ],
      "metadata": {
        "id": "jdBS-jwOXPFU"
      },
      "execution_count": null,
      "outputs": []
    },
    {
      "cell_type": "code",
      "source": [
        "tokenizer = Tokenizer(oov_token=\"<OOV>\")\n",
        "tokenizer.fit_on_texts(corpus)"
      ],
      "metadata": {
        "id": "agxOh_auXsZf"
      },
      "execution_count": null,
      "outputs": []
    },
    {
      "cell_type": "code",
      "source": [
        "vocab_size = len(tokenizer.word_index) + 1"
      ],
      "metadata": {
        "id": "H8bQMf49YOXN"
      },
      "execution_count": null,
      "outputs": []
    },
    {
      "cell_type": "code",
      "source": [
        "train_seq = tokenizer.texts_to_sequences(contexts)\n",
        "train_seq_pad = pad_sequences(train_seq, maxlen=max_length, truncating='post', padding='post')"
      ],
      "metadata": {
        "id": "mB_4k_rLYRvu"
      },
      "execution_count": null,
      "outputs": []
    },
    {
      "cell_type": "code",
      "source": [
        "train_labels = [to_categorical(tokenizer.word_index[label], len(tokenizer.word_index)+1) for label in centers]\n",
        "train_labels = np.array(train_labels)"
      ],
      "metadata": {
        "id": "voD3WFCWYe4E"
      },
      "execution_count": null,
      "outputs": []
    },
    {
      "cell_type": "code",
      "source": [
        "cbow = Sequential()\n",
        "cbow.add(Embedding(vocab_size, embedding_size, input_length=max_length))\n",
        "cbow.add(Lambda(lambda x: K.mean(x, axis=1), output_shape=(embedding_size,)))\n",
        "cbow.add(Dense(vocab_size, activation='softmax'))\n",
        "cbow.summary()"
      ],
      "metadata": {
        "colab": {
          "base_uri": "https://localhost:8080/"
        },
        "id": "OAgXs4xDY3Ei",
        "outputId": "a138ad4f-c2b8-4516-c93c-3ac677a00326"
      },
      "execution_count": null,
      "outputs": [
        {
          "output_type": "stream",
          "name": "stdout",
          "text": [
            "Model: \"sequential\"\n",
            "_________________________________________________________________\n",
            " Layer (type)                Output Shape              Param #   \n",
            "=================================================================\n",
            " embedding (Embedding)       (None, 4, 200)            482400    \n",
            "                                                                 \n",
            " lambda (Lambda)             (None, 200)               0         \n",
            "                                                                 \n",
            " dense (Dense)               (None, 2412)              484812    \n",
            "                                                                 \n",
            "=================================================================\n",
            "Total params: 967212 (3.69 MB)\n",
            "Trainable params: 967212 (3.69 MB)\n",
            "Non-trainable params: 0 (0.00 Byte)\n",
            "_________________________________________________________________\n"
          ]
        }
      ]
    },
    {
      "cell_type": "code",
      "source": [
        "cbow.compile(optimizer='adam', loss='categorical_crossentropy', metrics=['acc'])\n",
        "cbow.fit(train_seq_pad, train_labels, epochs=50, verbose=1)"
      ],
      "metadata": {
        "colab": {
          "base_uri": "https://localhost:8080/"
        },
        "id": "Dl8m1bgWZeRW",
        "outputId": "8af3345c-baf0-4781-cdbe-56b65cd1202f"
      },
      "execution_count": null,
      "outputs": [
        {
          "output_type": "stream",
          "name": "stdout",
          "text": [
            "Epoch 1/50\n",
            "306/306 [==============================] - 10s 26ms/step - loss: 7.4531 - acc: 0.0180\n",
            "Epoch 2/50\n",
            "306/306 [==============================] - 3s 9ms/step - loss: 6.7261 - acc: 0.0204\n",
            "Epoch 3/50\n",
            "306/306 [==============================] - 3s 8ms/step - loss: 6.5654 - acc: 0.0226\n",
            "Epoch 4/50\n",
            "306/306 [==============================] - 2s 8ms/step - loss: 6.3883 - acc: 0.0351\n",
            "Epoch 5/50\n",
            "306/306 [==============================] - 3s 8ms/step - loss: 6.1367 - acc: 0.0553\n",
            "Epoch 6/50\n",
            "306/306 [==============================] - 2s 6ms/step - loss: 5.8040 - acc: 0.0811\n",
            "Epoch 7/50\n",
            "306/306 [==============================] - 2s 7ms/step - loss: 5.4006 - acc: 0.1136\n",
            "Epoch 8/50\n",
            "306/306 [==============================] - 2s 7ms/step - loss: 4.9469 - acc: 0.1556\n",
            "Epoch 9/50\n",
            "306/306 [==============================] - 2s 7ms/step - loss: 4.4628 - acc: 0.2105\n",
            "Epoch 10/50\n",
            "306/306 [==============================] - 2s 6ms/step - loss: 3.9748 - acc: 0.2763\n",
            "Epoch 11/50\n",
            "306/306 [==============================] - 2s 5ms/step - loss: 3.5034 - acc: 0.3486\n",
            "Epoch 12/50\n",
            "306/306 [==============================] - 2s 6ms/step - loss: 3.0631 - acc: 0.4188\n",
            "Epoch 13/50\n",
            "306/306 [==============================] - 2s 6ms/step - loss: 2.6618 - acc: 0.4952\n",
            "Epoch 14/50\n",
            "306/306 [==============================] - 2s 5ms/step - loss: 2.3034 - acc: 0.5635\n",
            "Epoch 15/50\n",
            "306/306 [==============================] - 2s 7ms/step - loss: 1.9890 - acc: 0.6288\n",
            "Epoch 16/50\n",
            "306/306 [==============================] - 3s 8ms/step - loss: 1.7142 - acc: 0.6901\n",
            "Epoch 17/50\n",
            "306/306 [==============================] - 2s 6ms/step - loss: 1.4777 - acc: 0.7458\n",
            "Epoch 18/50\n",
            "306/306 [==============================] - 2s 6ms/step - loss: 1.2758 - acc: 0.7921\n",
            "Epoch 19/50\n",
            "306/306 [==============================] - 2s 5ms/step - loss: 1.1031 - acc: 0.8248\n",
            "Epoch 20/50\n",
            "306/306 [==============================] - 2s 5ms/step - loss: 0.9557 - acc: 0.8521\n",
            "Epoch 21/50\n",
            "306/306 [==============================] - 1s 4ms/step - loss: 0.8303 - acc: 0.8784\n",
            "Epoch 22/50\n",
            "306/306 [==============================] - 1s 4ms/step - loss: 0.7234 - acc: 0.8974\n",
            "Epoch 23/50\n",
            "306/306 [==============================] - 2s 7ms/step - loss: 0.6320 - acc: 0.9138\n",
            "Epoch 24/50\n",
            "306/306 [==============================] - 2s 7ms/step - loss: 0.5536 - acc: 0.9293\n",
            "Epoch 25/50\n",
            "306/306 [==============================] - 1s 5ms/step - loss: 0.4856 - acc: 0.9407\n",
            "Epoch 26/50\n",
            "306/306 [==============================] - 1s 4ms/step - loss: 0.4273 - acc: 0.9521\n",
            "Epoch 27/50\n",
            "306/306 [==============================] - 1s 4ms/step - loss: 0.3771 - acc: 0.9603\n",
            "Epoch 28/50\n",
            "306/306 [==============================] - 1s 4ms/step - loss: 0.3335 - acc: 0.9672\n",
            "Epoch 29/50\n",
            "306/306 [==============================] - 1s 4ms/step - loss: 0.2954 - acc: 0.9714\n",
            "Epoch 30/50\n",
            "306/306 [==============================] - 1s 4ms/step - loss: 0.2624 - acc: 0.9758\n",
            "Epoch 31/50\n",
            "306/306 [==============================] - 1s 4ms/step - loss: 0.2332 - acc: 0.9802\n",
            "Epoch 32/50\n",
            "306/306 [==============================] - 2s 6ms/step - loss: 0.2080 - acc: 0.9833\n",
            "Epoch 33/50\n",
            "306/306 [==============================] - 2s 6ms/step - loss: 0.1856 - acc: 0.9862\n",
            "Epoch 34/50\n",
            "306/306 [==============================] - 2s 5ms/step - loss: 0.1658 - acc: 0.9892\n",
            "Epoch 35/50\n",
            "306/306 [==============================] - 1s 4ms/step - loss: 0.1486 - acc: 0.9899\n",
            "Epoch 36/50\n",
            "306/306 [==============================] - 1s 4ms/step - loss: 0.1333 - acc: 0.9914\n",
            "Epoch 37/50\n",
            "306/306 [==============================] - 1s 4ms/step - loss: 0.1197 - acc: 0.9917\n",
            "Epoch 38/50\n",
            "306/306 [==============================] - 1s 4ms/step - loss: 0.1078 - acc: 0.9926\n",
            "Epoch 39/50\n",
            "306/306 [==============================] - 1s 4ms/step - loss: 0.0969 - acc: 0.9938\n",
            "Epoch 40/50\n",
            "306/306 [==============================] - 1s 4ms/step - loss: 0.0876 - acc: 0.9940\n",
            "Epoch 41/50\n",
            "306/306 [==============================] - 1s 5ms/step - loss: 0.0789 - acc: 0.9946\n",
            "Epoch 42/50\n",
            "306/306 [==============================] - 2s 7ms/step - loss: 0.0715 - acc: 0.9950\n",
            "Epoch 43/50\n",
            "306/306 [==============================] - 2s 6ms/step - loss: 0.0645 - acc: 0.9958\n",
            "Epoch 44/50\n",
            "306/306 [==============================] - 1s 4ms/step - loss: 0.0584 - acc: 0.9965\n",
            "Epoch 45/50\n",
            "306/306 [==============================] - 1s 4ms/step - loss: 0.0529 - acc: 0.9965\n",
            "Epoch 46/50\n",
            "306/306 [==============================] - 1s 4ms/step - loss: 0.0479 - acc: 0.9964\n",
            "Epoch 47/50\n",
            "306/306 [==============================] - 1s 4ms/step - loss: 0.0433 - acc: 0.9973\n",
            "Epoch 48/50\n",
            "306/306 [==============================] - 1s 4ms/step - loss: 0.0396 - acc: 0.9970\n",
            "Epoch 49/50\n",
            "306/306 [==============================] - 1s 4ms/step - loss: 0.0361 - acc: 0.9976\n",
            "Epoch 50/50\n",
            "306/306 [==============================] - 1s 4ms/step - loss: 0.0328 - acc: 0.9979\n"
          ]
        },
        {
          "output_type": "execute_result",
          "data": {
            "text/plain": [
              "<keras.src.callbacks.History at 0x780881e834c0>"
            ]
          },
          "metadata": {},
          "execution_count": 15
        }
      ]
    },
    {
      "cell_type": "code",
      "source": [
        "sample_text = 'trăm năm cõi người'\n",
        "sample_seq = tokenizer.texts_to_sequences([sample_text])\n",
        "sample_seq_pad = pad_sequences(sample_seq, maxlen=max_length, truncating='post', padding='post')\n",
        "cbow.predict(sample_seq_pad)"
      ],
      "metadata": {
        "colab": {
          "base_uri": "https://localhost:8080/"
        },
        "id": "ZN0xdKb2alBv",
        "outputId": "5cce7f49-f7d4-419a-a41a-331e217713b7"
      },
      "execution_count": null,
      "outputs": [
        {
          "output_type": "stream",
          "name": "stdout",
          "text": [
            "1/1 [==============================] - 0s 94ms/step\n"
          ]
        },
        {
          "output_type": "execute_result",
          "data": {
            "text/plain": [
              "array([[4.66419235e-14, 4.60987009e-14, 1.53871442e-04, ...,\n",
              "        5.34828395e-08, 4.86869659e-14, 1.07789866e-07]], dtype=float32)"
            ]
          },
          "metadata": {},
          "execution_count": 16
        }
      ]
    },
    {
      "cell_type": "code",
      "source": [
        "tokenizer.index_word[np.argmax(cbow.predict(sample_seq_pad))]"
      ],
      "metadata": {
        "colab": {
          "base_uri": "https://localhost:8080/",
          "height": 53
        },
        "id": "FvsIQukgaWLM",
        "outputId": "9fbd8d0f-17bc-410f-e6e3-a57d4e1f8300"
      },
      "execution_count": null,
      "outputs": [
        {
          "output_type": "stream",
          "name": "stdout",
          "text": [
            "1/1 [==============================] - 0s 40ms/step\n"
          ]
        },
        {
          "output_type": "execute_result",
          "data": {
            "text/plain": [
              "'trong'"
            ],
            "application/vnd.google.colaboratory.intrinsic+json": {
              "type": "string"
            }
          },
          "metadata": {},
          "execution_count": 17
        }
      ]
    },
    {
      "cell_type": "code",
      "source": [],
      "metadata": {
        "id": "grJaBMobaz5z"
      },
      "execution_count": null,
      "outputs": []
    }
  ]
}