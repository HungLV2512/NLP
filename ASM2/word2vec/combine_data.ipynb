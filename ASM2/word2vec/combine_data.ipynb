{
  "nbformat": 4,
  "nbformat_minor": 0,
  "metadata": {
    "colab": {
      "provenance": [],
      "authorship_tag": "ABX9TyOEuXuMJGaXlJQHmeNpwV3k",
      "include_colab_link": true
    },
    "kernelspec": {
      "name": "python3",
      "display_name": "Python 3"
    },
    "language_info": {
      "name": "python"
    }
  },
  "cells": [
    {
      "cell_type": "markdown",
      "metadata": {
        "id": "view-in-github",
        "colab_type": "text"
      },
      "source": [
        "<a href=\"https://colab.research.google.com/github/HungLV2512/NLP/blob/main/ASM2/word2vec/combine_data.ipynb\" target=\"_parent\"><img src=\"https://colab.research.google.com/assets/colab-badge.svg\" alt=\"Open In Colab\"/></a>"
      ]
    },
    {
      "cell_type": "code",
      "execution_count": 1,
      "metadata": {
        "colab": {
          "base_uri": "https://localhost:8080/"
        },
        "id": "3EcB9ffBBxjy",
        "outputId": "b284d43f-bd17-44e8-c14d-61b06ee642b6"
      },
      "outputs": [
        {
          "output_type": "stream",
          "name": "stdout",
          "text": [
            "Drive already mounted at /content/drive; to attempt to forcibly remount, call drive.mount(\"/content/drive\", force_remount=True).\n"
          ]
        }
      ],
      "source": [
        "from google.colab import drive\n",
        "drive.mount('/content/drive')"
      ]
    },
    {
      "cell_type": "code",
      "source": [
        "file_paths = [f'/content/drive/MyDrive/Colab Notebooks/NLP/word2vec/extracted/AA/wiki_0{i}' for i in range(9)]\n",
        "f_w = open('/content/drive/MyDrive/Colab Notebooks/NLP/word2vec/data.txt', 'w')\n",
        "\n",
        "for fpath in file_paths:\n",
        "    with open(fpath) as infile:\n",
        "        f_w.write(infile.read())\n",
        "\n",
        "f_w.close()"
      ],
      "metadata": {
        "id": "i-um7FzOB6N7"
      },
      "execution_count": 2,
      "outputs": []
    },
    {
      "cell_type": "code",
      "source": [],
      "metadata": {
        "id": "Bk2HCKqGCJfy"
      },
      "execution_count": 2,
      "outputs": []
    }
  ]
}