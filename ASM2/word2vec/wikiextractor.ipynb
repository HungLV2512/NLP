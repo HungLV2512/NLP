{
  "nbformat": 4,
  "nbformat_minor": 0,
  "metadata": {
    "colab": {
      "provenance": [],
      "authorship_tag": "ABX9TyMqAc19O2vB7x2iUtiuXUWC",
      "include_colab_link": true
    },
    "kernelspec": {
      "name": "python3",
      "display_name": "Python 3"
    },
    "language_info": {
      "name": "python"
    }
  },
  "cells": [
    {
      "cell_type": "markdown",
      "metadata": {
        "id": "view-in-github",
        "colab_type": "text"
      },
      "source": [
        "<a href=\"https://colab.research.google.com/github/HungLV2512/NLP/blob/main/ASM2/word2vec/wikiextractor.ipynb\" target=\"_parent\"><img src=\"https://colab.research.google.com/assets/colab-badge.svg\" alt=\"Open In Colab\"/></a>"
      ]
    },
    {
      "cell_type": "code",
      "execution_count": null,
      "metadata": {
        "colab": {
          "base_uri": "https://localhost:8080/"
        },
        "id": "ReHoQjDzUenU",
        "outputId": "fa5659a4-c1b8-4ea7-fcf7-30054a6b4ec5"
      },
      "outputs": [
        {
          "output_type": "stream",
          "name": "stdout",
          "text": [
            "Mounted at /content/drive\n"
          ]
        }
      ],
      "source": [
        "from google.colab import drive\n",
        "drive.mount('/content/drive')"
      ]
    },
    {
      "cell_type": "code",
      "source": [
        "!pip install wikiextractor"
      ],
      "metadata": {
        "colab": {
          "base_uri": "https://localhost:8080/"
        },
        "id": "frjN4CKvU52k",
        "outputId": "043685c7-5346-4364-ab23-2e67b8d1dcfc"
      },
      "execution_count": null,
      "outputs": [
        {
          "output_type": "stream",
          "name": "stdout",
          "text": [
            "Collecting wikiextractor\n",
            "  Downloading wikiextractor-3.0.6-py3-none-any.whl (46 kB)\n",
            "\u001b[2K     \u001b[90m━━━━━━━━━━━━━━━━━━━━━━━━━━━━━━━━━━━━━━━━\u001b[0m \u001b[32m46.4/46.4 kB\u001b[0m \u001b[31m761.8 kB/s\u001b[0m eta \u001b[36m0:00:00\u001b[0m\n",
            "\u001b[?25hInstalling collected packages: wikiextractor\n",
            "Successfully installed wikiextractor-3.0.6\n"
          ]
        }
      ]
    },
    {
      "cell_type": "code",
      "source": [
        "!python -m wikiextractor.WikiExtractor -o /content/drive/MyDrive/Colab\\ Notebooks/NLP/word2vec/extracted /content/drive/MyDrive/Colab\\ Notebooks/NLP/word2vec/viwiki-20240701-pages-articles5.xml-p11180045p12443528"
      ],
      "metadata": {
        "colab": {
          "base_uri": "https://localhost:8080/"
        },
        "id": "jYux5inbVMcw",
        "outputId": "91457324-0231-49c9-e253-bd13b07525ae"
      },
      "execution_count": null,
      "outputs": [
        {
          "output_type": "stream",
          "name": "stdout",
          "text": [
            "INFO: Preprocessing '/content/drive/MyDrive/Colab Notebooks/NLP/viwiki-20240701-pages-articles5.xml-p11180045p12443528' to collect template definitions: this may take some time.\n",
            "INFO: Loaded 682 templates in 1.7s\n",
            "INFO: Starting page extraction from /content/drive/MyDrive/Colab Notebooks/NLP/viwiki-20240701-pages-articles5.xml-p11180045p12443528.\n",
            "INFO: Using 1 extract processes.\n",
            "INFO: Finished 1-process extraction of 4910 articles in 6.0s (822.5 art/s)\n"
          ]
        }
      ]
    },
    {
      "cell_type": "code",
      "source": [],
      "metadata": {
        "id": "bHyax4sGVgJC"
      },
      "execution_count": null,
      "outputs": []
    }
  ]
}