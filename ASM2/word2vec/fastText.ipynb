{
  "nbformat": 4,
  "nbformat_minor": 0,
  "metadata": {
    "colab": {
      "provenance": [],
      "authorship_tag": "ABX9TyOzZvpFq7bVShMqdcWpqT4J",
      "include_colab_link": true
    },
    "kernelspec": {
      "name": "python3",
      "display_name": "Python 3"
    },
    "language_info": {
      "name": "python"
    }
  },
  "cells": [
    {
      "cell_type": "markdown",
      "metadata": {
        "id": "view-in-github",
        "colab_type": "text"
      },
      "source": [
        "<a href=\"https://colab.research.google.com/github/HungLV2512/NLP/blob/main/ASM2/word2vec/fastText.ipynb\" target=\"_parent\"><img src=\"https://colab.research.google.com/assets/colab-badge.svg\" alt=\"Open In Colab\"/></a>"
      ]
    },
    {
      "cell_type": "code",
      "source": [
        "from google.colab import drive\n",
        "drive.mount('/content/drive')"
      ],
      "metadata": {
        "colab": {
          "base_uri": "https://localhost:8080/"
        },
        "id": "J60umk27l_VL",
        "outputId": "0d295f72-be7a-41ec-b0fc-1148a53ce45d"
      },
      "execution_count": null,
      "outputs": [
        {
          "output_type": "stream",
          "name": "stdout",
          "text": [
            "Mounted at /content/drive\n"
          ]
        }
      ]
    },
    {
      "cell_type": "code",
      "execution_count": null,
      "metadata": {
        "id": "4JHxquL1lx2D"
      },
      "outputs": [],
      "source": [
        "from gensim.models.fasttext import FastText\n",
        "\n",
        "pathdata = '/content/drive/MyDrive/Colab Notebooks/NLP/word2vec/datatrain.txt'\n",
        "\n",
        "def read_data(path):\n",
        "    traindata = []\n",
        "    sents = open(pathdata, 'r').readlines()\n",
        "    for sent in sents:\n",
        "        traindata.append(sent.split())\n",
        "    return traindata\n",
        "\n",
        "if __name__ == '__main__':\n",
        "    train_data = read_data(pathdata)\n",
        "\n",
        "    model_fasttext = FastText(vector_size=150, window=10, min_count=2, workers=4, sg=1)\n",
        "    model_fasttext.build_vocab(train_data)\n",
        "    model_fasttext.train(train_data, total_examples=model_fasttext.corpus_count, epochs=model_fasttext.epochs)\n",
        "\n",
        "    model_fasttext.wv.save(\"/content/drive/MyDrive/Colab Notebooks/NLP/word2vec/model/fasttext_gensim.model\")"
      ]
    },
    {
      "cell_type": "code",
      "source": [],
      "metadata": {
        "id": "wnxqm5A8mVz2"
      },
      "execution_count": null,
      "outputs": []
    }
  ]
}