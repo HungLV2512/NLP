{
  "nbformat": 4,
  "nbformat_minor": 0,
  "metadata": {
    "colab": {
      "provenance": [],
      "authorship_tag": "ABX9TyNDq14yuHSjXMqqAnEv1q3f",
      "include_colab_link": true
    },
    "kernelspec": {
      "name": "python3",
      "display_name": "Python 3"
    },
    "language_info": {
      "name": "python"
    }
  },
  "cells": [
    {
      "cell_type": "markdown",
      "metadata": {
        "id": "view-in-github",
        "colab_type": "text"
      },
      "source": [
        "<a href=\"https://colab.research.google.com/github/HungLV2512/NLP/blob/main/ASM2/word2vec/w2v.ipynb\" target=\"_parent\"><img src=\"https://colab.research.google.com/assets/colab-badge.svg\" alt=\"Open In Colab\"/></a>"
      ]
    },
    {
      "cell_type": "code",
      "source": [
        "from google.colab import drive\n",
        "drive.mount('/content/drive')"
      ],
      "metadata": {
        "colab": {
          "base_uri": "https://localhost:8080/"
        },
        "id": "MmAiVSyXk4dD",
        "outputId": "90eda94f-5931-4ea9-d960-c6251b6ec077"
      },
      "execution_count": null,
      "outputs": [
        {
          "output_type": "stream",
          "name": "stdout",
          "text": [
            "Drive already mounted at /content/drive; to attempt to forcibly remount, call drive.mount(\"/content/drive\", force_remount=True).\n"
          ]
        }
      ]
    },
    {
      "cell_type": "code",
      "execution_count": null,
      "metadata": {
        "id": "0JzHJ8dzkvuH"
      },
      "outputs": [],
      "source": [
        "from gensim.models import Word2Vec\n",
        "\n",
        "pathdata = '/content/drive/MyDrive/Colab Notebooks/NLP/word2vec/datatrain.txt'\n",
        "\n",
        "def read_data(path):\n",
        "    traindata = []\n",
        "    sents = open(pathdata, 'r').readlines()\n",
        "    for sent in sents:\n",
        "        traindata.append(sent.split())\n",
        "    return traindata\n",
        "\n",
        "\n",
        "if __name__ == '__main__':\n",
        "    train_data = read_data(pathdata)\n",
        "\n",
        "    model = Word2Vec(train_data, vector_size=150, window=10, min_count=2, workers=4, sg=0)\n",
        "    model.wv.save(\"/content/drive/MyDrive/Colab Notebooks/NLP/word2vec/model/word2vec_skipgram.model\")"
      ]
    },
    {
      "cell_type": "code",
      "source": [],
      "metadata": {
        "id": "RUwXW54elKAW"
      },
      "execution_count": null,
      "outputs": []
    }
  ]
}