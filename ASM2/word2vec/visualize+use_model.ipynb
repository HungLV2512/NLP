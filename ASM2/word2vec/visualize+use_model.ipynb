{
  "nbformat": 4,
  "nbformat_minor": 0,
  "metadata": {
    "colab": {
      "provenance": [],
      "authorship_tag": "ABX9TyNC9CQNkgttQSsg85VI9V0g",
      "include_colab_link": true
    },
    "kernelspec": {
      "name": "python3",
      "display_name": "Python 3"
    },
    "language_info": {
      "name": "python"
    }
  },
  "cells": [
    {
      "cell_type": "markdown",
      "metadata": {
        "id": "view-in-github",
        "colab_type": "text"
      },
      "source": [
        "<a href=\"https://colab.research.google.com/github/HungLV2512/NLP/blob/main/ASM2/word2vec/visualize%2Buse_model.ipynb\" target=\"_parent\"><img src=\"https://colab.research.google.com/assets/colab-badge.svg\" alt=\"Open In Colab\"/></a>"
      ]
    },
    {
      "cell_type": "code",
      "execution_count": null,
      "metadata": {
        "colab": {
          "base_uri": "https://localhost:8080/"
        },
        "id": "unQl8Tu_w--E",
        "outputId": "9e2e9fb6-dadc-4dab-8bda-4d515a036f59"
      },
      "outputs": [
        {
          "output_type": "stream",
          "name": "stdout",
          "text": [
            "Drive already mounted at /content/drive; to attempt to forcibly remount, call drive.mount(\"/content/drive\", force_remount=True).\n"
          ]
        }
      ],
      "source": [
        "from google.colab import drive\n",
        "drive.mount('/content/drive')"
      ]
    },
    {
      "cell_type": "code",
      "source": [
        "import gensim.models.keyedvectors as word2vec\n",
        "import matplotlib.pyplot as plt\n",
        "from sklearn.decomposition import PCA\n",
        "\n",
        "import os\n",
        "\n",
        "model = word2vec.KeyedVectors.load('/content/drive/MyDrive/Colab Notebooks/NLP/word2vec/model/word2vec_skipgram.model')\n",
        "# model = word2vec.KeyedVectors.load('/content/drive/MyDrive/Colab Notebooks/NLP/word2vec/model/fasttext_gensim.model')\n",
        "\n",
        "pathfile = '/content/drive/MyDrive/Colab Notebooks/NLP/word2vec/words.txt'\n",
        "with open(pathfile, 'r') as f:\n",
        "    words = f.readlines()\n",
        "    words = [word.strip() for word in words]\n",
        "\n",
        "words_np = []\n",
        "words_label = []\n",
        "\n",
        "for word in model.key_to_index.keys():\n",
        "    if word in words:\n",
        "        words_np.append(model[word])\n",
        "        words_label.append(word)\n",
        "\n",
        "pca = PCA(n_components=2)\n",
        "pca.fit(words_np)\n",
        "reduced = pca.transform(words_np)\n",
        "\n",
        "\n",
        "def visualize():\n",
        "    fig, ax = plt.subplots()\n",
        "\n",
        "    for index, vec in enumerate(reduced):\n",
        "        x, y = vec[0], vec[1]\n",
        "\n",
        "        ax.scatter(x, y)\n",
        "        ax.annotate(words_label[index], xy=(x, y))\n",
        "\n",
        "    plt.show()\n",
        "    return\n",
        "\n",
        "\n",
        "if __name__ == '__main__':\n",
        "    visualize()"
      ],
      "metadata": {
        "colab": {
          "base_uri": "https://localhost:8080/",
          "height": 430
        },
        "id": "7cRuc38jxCTL",
        "outputId": "fbe1488c-2971-40d6-c6fb-3ad48b0f4c97"
      },
      "execution_count": null,
      "outputs": [
        {
          "output_type": "display_data",
          "data": {
            "text/plain": [
              "<Figure size 640x480 with 1 Axes>"
            ],
            "image/png": "[encoded data removed]"
          },
          "metadata": {}
        }
      ]
    },
    {
      "cell_type": "code",
      "source": [
        "for word in model.most_similar(\"phụ_nữ\"):\n",
        "    print(word[0])"
      ],
      "metadata": {
        "id": "zRoVK7cTxgre",
        "colab": {
          "base_uri": "https://localhost:8080/"
        },
        "outputId": "3a5e0e18-4da3-4a02-f0c0-c63046da6bda"
      },
      "execution_count": null,
      "outputs": [
        {
          "output_type": "stream",
          "name": "stdout",
          "text": [
            "đàn_ông\n",
            "bạn\n",
            "chú\n",
            "đứa\n",
            "đồng_tính\n",
            "mẹ\n",
            "chồng\n",
            "chị\n",
            "victoria\n",
            "gia_đình\n"
          ]
        }
      ]
    },
    {
      "cell_type": "code",
      "source": [],
      "metadata": {
        "id": "nQ9zaUzFy-Jj"
      },
      "execution_count": null,
      "outputs": []
    }
  ]
}