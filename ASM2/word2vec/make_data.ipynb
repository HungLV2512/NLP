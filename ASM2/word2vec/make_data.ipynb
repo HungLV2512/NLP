{
  "nbformat": 4,
  "nbformat_minor": 0,
  "metadata": {
    "colab": {
      "provenance": [],
      "authorship_tag": "ABX9TyOYxodiHdM0w+XJx0WazWIM",
      "include_colab_link": true
    },
    "kernelspec": {
      "name": "python3",
      "display_name": "Python 3"
    },
    "language_info": {
      "name": "python"
    }
  },
  "cells": [
    {
      "cell_type": "markdown",
      "metadata": {
        "id": "view-in-github",
        "colab_type": "text"
      },
      "source": [
        "<a href=\"https://colab.research.google.com/github/HungLV2512/NLP/blob/main/ASM2/word2vec/make_data.ipynb\" target=\"_parent\"><img src=\"https://colab.research.google.com/assets/colab-badge.svg\" alt=\"Open In Colab\"/></a>"
      ]
    },
    {
      "cell_type": "code",
      "execution_count": null,
      "metadata": {
        "colab": {
          "base_uri": "https://localhost:8080/"
        },
        "id": "2aoRu-Kfeax5",
        "outputId": "a752c178-7b6e-43dd-ba18-32c44a475dda"
      },
      "outputs": [
        {
          "output_type": "stream",
          "name": "stdout",
          "text": [
            "Mounted at /content/drive\n"
          ]
        }
      ],
      "source": [
        "from google.colab import drive\n",
        "drive.mount('/content/drive')"
      ]
    },
    {
      "cell_type": "code",
      "source": [
        "!"
      ],
      "metadata": {
        "id": "5N7W65Zr82lC"
      },
      "execution_count": null,
      "outputs": []
    },
    {
      "cell_type": "code",
      "source": [
        "!pip -q install pyvi"
      ],
      "metadata": {
        "colab": {
          "base_uri": "https://localhost:8080/"
        },
        "id": "S-CT2GHle2Sk",
        "outputId": "ce919f19-08c8-4344-def4-ff9279f7b46b"
      },
      "execution_count": null,
      "outputs": [
        {
          "output_type": "stream",
          "name": "stdout",
          "text": [
            "\u001b[2K     \u001b[90m━━━━━━━━━━━━━━━━━━━━━━━━━━━━━━━━━━━━━━━━\u001b[0m \u001b[32m8.5/8.5 MB\u001b[0m \u001b[31m52.9 MB/s\u001b[0m eta \u001b[36m0:00:00\u001b[0m\n",
            "\u001b[2K     \u001b[90m━━━━━━━━━━━━━━━━━━━━━━━━━━━━━━━━━━━━━━━━\u001b[0m \u001b[32m1.1/1.1 MB\u001b[0m \u001b[31m42.7 MB/s\u001b[0m eta \u001b[36m0:00:00\u001b[0m\n",
            "\u001b[?25h"
          ]
        }
      ]
    },
    {
      "cell_type": "code",
      "source": [
        "from pyvi.ViTokenizer import tokenize\n",
        "import re, os, string\n",
        "import pandas as pd\n",
        "\n",
        "def clean_text(text):\n",
        "    text = re.sub('<.*?>', '', text).strip()\n",
        "    text = re.sub('(\\s)+', r'\\1', text)\n",
        "    return text\n",
        "\n",
        "def normalize_text(text):\n",
        "    listpunctuation = string.punctuation.replace('_', '')\n",
        "    for i in listpunctuation:\n",
        "        text = text.replace(i, ' ')\n",
        "    return text.lower()\n",
        "\n",
        "filename = '/content/drive/MyDrive/Colab Notebooks/NLP/word2vec/stopwords.csv'\n",
        "data = pd.read_csv(filename, sep=\"\\t\", encoding='utf-8')\n",
        "list_stopwords = data['stopwords']\n",
        "\n",
        "def remove_stopword(text):\n",
        "    pre_text = []\n",
        "    words = text.split()\n",
        "    for word in words:\n",
        "        if word not in list_stopwords:\n",
        "            pre_text.append(word)\n",
        "    text2 = ' '.join(pre_text)\n",
        "\n",
        "    return text2\n",
        "\n",
        "def sentence_segment(text):\n",
        "    sents = re.split(\"([.?!])?[\\n]+|[.?!] \", text)\n",
        "    return sents\n",
        "\n",
        "\n",
        "def word_segment(sent):\n",
        "    sent = tokenize(sent)\n",
        "    return sent"
      ],
      "metadata": {
        "id": "PzBqQ33oeh6k"
      },
      "execution_count": null,
      "outputs": []
    },
    {
      "cell_type": "code",
      "source": [
        "f_w = open('/content/drive/MyDrive/Colab Notebooks/NLP/word2vec/datatrain.txt', 'w')\n",
        "with open('/content/drive/MyDrive/Colab Notebooks/NLP/word2vec/data.txt') as f_r:\n",
        "    contents = f_r.read().strip().split('</doc>')\n",
        "    for content in contents:\n",
        "        if (len(content) < 5):\n",
        "            continue\n",
        "        content = clean_text(content)\n",
        "        sents = sentence_segment(content)\n",
        "        for sent in sents:\n",
        "            if(sent != None):\n",
        "                sent = word_segment(sent)\n",
        "                sent = remove_stopword(normalize_text(sent))\n",
        "                if(len(sent.split()) > 1):\n",
        "                    f_w.write(sent + '\\n')\n",
        "\n",
        "f_w.close()"
      ],
      "metadata": {
        "id": "z6EBh5I4gnGi"
      },
      "execution_count": null,
      "outputs": []
    },
    {
      "cell_type": "code",
      "source": [],
      "metadata": {
        "id": "bsXCSz5NhEGD"
      },
      "execution_count": null,
      "outputs": []
    }
  ]
}